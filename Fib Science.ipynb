{
 "cells": [
  {
   "cell_type": "code",
   "execution_count": 40,
   "id": "00724b81-4776-4007-a527-5692c68b6fe0",
   "metadata": {},
   "outputs": [],
   "source": [
    "import numpy as np\n",
    "import pandas as pd\n",
    "import matplotlib.pyplot as plt\n",
    "import random as random"
   ]
  },
  {
   "cell_type": "code",
   "execution_count": 50,
   "id": "9be52900-67f5-4ec5-acf6-d5c90d8d77d2",
   "metadata": {},
   "outputs": [],
   "source": [
    "# import libery"
   ]
  },
  {
   "cell_type": "code",
   "execution_count": 41,
   "id": "c9b25d18-77d1-4e99-8767-dfe8099f1e4e",
   "metadata": {},
   "outputs": [],
   "source": [
    "def file_rand(file_name) :\n",
    "    rand_num = random.randint(10, 20)\n",
    "    with open(file_name, 'w') as file :\n",
    "        file.write(str(rand_num))"
   ]
  },
  {
   "cell_type": "code",
   "execution_count": 51,
   "id": "8df04c33-dc92-46a2-af06-8d1aa9eaac22",
   "metadata": {},
   "outputs": [],
   "source": [
    "# make file an put 2 number in it"
   ]
  },
  {
   "cell_type": "code",
   "execution_count": 42,
   "id": "2f6f0fb3-5909-4c2d-9f0d-b6e43afe39c6",
   "metadata": {},
   "outputs": [],
   "source": [
    "def fib_num(file_name) :\n",
    "    with open(file_name, 'r') as file :\n",
    "        nums = list(file.read())\n",
    "        for i in range(8) :\n",
    "            new_num = int(nums[-1]) + int(nums[-2])\n",
    "            nums.append(new_num)\n",
    "        return nums"
   ]
  },
  {
   "cell_type": "code",
   "execution_count": 52,
   "id": "9583e2c3-be3b-42cf-b609-7dd1158ef36b",
   "metadata": {},
   "outputs": [],
   "source": [
    "# make 10 num (2 + 8) of fibbo"
   ]
  },
  {
   "cell_type": "code",
   "execution_count": 43,
   "id": "edc59a57-0082-4dde-b802-6d3d4253f95b",
   "metadata": {},
   "outputs": [],
   "source": [
    "def fib2pand(fib_num) :\n",
    "    fib_arr = np.array(fib_num)\n",
    "    fib_frame = pd.DataFrame(fib_arr)\n",
    "    return fib_frame"
   ]
  },
  {
   "cell_type": "code",
   "execution_count": 53,
   "id": "c93ccacd-1268-4c0b-b8cc-a1d9eff5ba91",
   "metadata": {},
   "outputs": [],
   "source": [
    "# conver fib num to panda data frame"
   ]
  },
  {
   "cell_type": "code",
   "execution_count": 44,
   "id": "c74d6309-85ba-4845-aa3f-c429ca542be1",
   "metadata": {},
   "outputs": [],
   "source": [
    "def fib2plot(fib_num) :\n",
    "    plt.figure(figsize= (4, 2))\n",
    "    plt.plot(fib_num, fib_num, label= '<-Fibbo-> num Linus')\n",
    "    plt.xlabel('<--Fib-->')\n",
    "    plt.ylabel('<--Up-to-->')\n",
    "    plt.title('Fibbo num')\n",
    "    plt.legend();"
   ]
  },
  {
   "cell_type": "code",
   "execution_count": 54,
   "id": "5d90e06d-1782-4ca3-918b-04742aea3498",
   "metadata": {},
   "outputs": [],
   "source": [
    "# make plot with fibbo num"
   ]
  },
  {
   "cell_type": "code",
   "execution_count": 55,
   "id": "8219dbbc-0567-4ccf-92e0-7cbf2daa59a3",
   "metadata": {},
   "outputs": [],
   "source": [
    "# call Func"
   ]
  },
  {
   "cell_type": "code",
   "execution_count": 45,
   "id": "bdde0e23-8960-419d-97e3-1dfdb5832245",
   "metadata": {},
   "outputs": [],
   "source": [
    "file_rand('fib.txt')"
   ]
  },
  {
   "cell_type": "code",
   "execution_count": 46,
   "id": "10991007-d021-4bd5-86d0-29f7b11bc9bf",
   "metadata": {},
   "outputs": [],
   "source": [
    "arr = fib_num('fib.txt')"
   ]
  },
  {
   "cell_type": "code",
   "execution_count": 47,
   "id": "397718ba-464e-4dab-9580-c04701ead8e9",
   "metadata": {},
   "outputs": [
    {
     "name": "stdout",
     "output_type": "stream",
     "text": [
      "['1', '6', 7, 13, 20, 33, 53, 86, 139, 225]\n"
     ]
    }
   ],
   "source": [
    "print(arr)"
   ]
  },
  {
   "cell_type": "code",
   "execution_count": 48,
   "id": "6b21597f-6d93-4705-948b-16346903d6fd",
   "metadata": {},
   "outputs": [
    {
     "data": {
      "text/html": [
       "<div>\n",
       "<style scoped>\n",
       "    .dataframe tbody tr th:only-of-type {\n",
       "        vertical-align: middle;\n",
       "    }\n",
       "\n",
       "    .dataframe tbody tr th {\n",
       "        vertical-align: top;\n",
       "    }\n",
       "\n",
       "    .dataframe thead th {\n",
       "        text-align: right;\n",
       "    }\n",
       "</style>\n",
       "<table border=\"1\" class=\"dataframe\">\n",
       "  <thead>\n",
       "    <tr style=\"text-align: right;\">\n",
       "      <th></th>\n",
       "      <th>0</th>\n",
       "    </tr>\n",
       "  </thead>\n",
       "  <tbody>\n",
       "    <tr>\n",
       "      <th>0</th>\n",
       "      <td>1</td>\n",
       "    </tr>\n",
       "    <tr>\n",
       "      <th>1</th>\n",
       "      <td>6</td>\n",
       "    </tr>\n",
       "    <tr>\n",
       "      <th>2</th>\n",
       "      <td>7</td>\n",
       "    </tr>\n",
       "    <tr>\n",
       "      <th>3</th>\n",
       "      <td>13</td>\n",
       "    </tr>\n",
       "    <tr>\n",
       "      <th>4</th>\n",
       "      <td>20</td>\n",
       "    </tr>\n",
       "    <tr>\n",
       "      <th>5</th>\n",
       "      <td>33</td>\n",
       "    </tr>\n",
       "    <tr>\n",
       "      <th>6</th>\n",
       "      <td>53</td>\n",
       "    </tr>\n",
       "    <tr>\n",
       "      <th>7</th>\n",
       "      <td>86</td>\n",
       "    </tr>\n",
       "    <tr>\n",
       "      <th>8</th>\n",
       "      <td>139</td>\n",
       "    </tr>\n",
       "    <tr>\n",
       "      <th>9</th>\n",
       "      <td>225</td>\n",
       "    </tr>\n",
       "  </tbody>\n",
       "</table>\n",
       "</div>"
      ],
      "text/plain": [
       "     0\n",
       "0    1\n",
       "1    6\n",
       "2    7\n",
       "3   13\n",
       "4   20\n",
       "5   33\n",
       "6   53\n",
       "7   86\n",
       "8  139\n",
       "9  225"
      ]
     },
     "execution_count": 48,
     "metadata": {},
     "output_type": "execute_result"
    }
   ],
   "source": [
    "fib2pand(arr)"
   ]
  },
  {
   "cell_type": "code",
   "execution_count": 49,
   "id": "d914614e-ec41-40b2-ace0-44590dfdb9ab",
   "metadata": {},
   "outputs": [
    {
     "data": {
      "image/png": "[encoded data removed]",
      "text/plain": [
       "<Figure size 400x200 with 1 Axes>"
      ]
     },
     "metadata": {},
     "output_type": "display_data"
    }
   ],
   "source": [
    "fib2plot(arr)"
   ]
  },
  {
   "cell_type": "code",
   "execution_count": 56,
   "id": "575fa8dd-27a2-4e2d-88b8-3265321974bf",
   "metadata": {},
   "outputs": [],
   "source": [
    "# made By TAKING Programmer (Taha | Tajik)"
   ]
  },
  {
   "cell_type": "code",
   "execution_count": 57,
   "id": "45d0907b-0a8e-4859-aa56-b992bbb3ae8e",
   "metadata": {},
   "outputs": [],
   "source": [
    "# ~Github--> Tajik89"
   ]
  }
 ],
 "metadata": {
  "kernelspec": {
   "display_name": "Python 3 (ipykernel)",
   "language": "python",
   "name": "python3"
  },
  "language_info": {
   "codemirror_mode": {
    "name": "ipython",
    "version": 3
   },
   "file_extension": ".py",
   "mimetype": "text/x-python",
   "name": "python",
   "nbconvert_exporter": "python",
   "pygments_lexer": "ipython3",
   "version": "3.12.4"
  }
 },
 "nbformat": 4,
 "nbformat_minor": 5
}
